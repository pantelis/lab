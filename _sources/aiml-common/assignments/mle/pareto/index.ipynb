{
 "cells": [
  {
   "attachments": {},
   "cell_type": "markdown",
   "id": "945f1c9e",
   "metadata": {},
   "source": [
    "# MLE of the Pareto Distribution"
   ]
  },
  {
   "attachments": {},
   "cell_type": "markdown",
   "id": "a8be63a3",
   "metadata": {},
   "source": [
    "While not as well-known as the bell-shaped Normal (Gaussian) distribution, the Pareto distribution is a powerful tool for modeling a variety of real-life phenomena. It is named after the Italian economist Vilfredo Pareto (1848-1923), who developed the distribution in the 1890s as a way to describe the allocation of wealth in society. He famously observed that 80% of society’s wealth was controlled by 20% of its population, a concept now known as the “Pareto Principle” or the “80-20 Rule”. You can read more about it \n",
    "\n",
    "## Analytical estimate \n",
    "\n",
    "Consider the Pareto distribution: \n",
    "\n",
    "$$ f(x|x_0, \\theta) = \\theta x_0^{\\theta}x^{-\\theta - 1}, x \\geq x_0 \\geq 0 , \\theta > 1 $$\n",
    "\n",
    "\n",
    "Assuming that $x_1, x_2, · · · , x_n$  are an i.i.d. samples, calculate the MLE of  $\\theta$ analytically. "
   ]
  },
  {
   "attachments": {},
   "cell_type": "markdown",
   "id": "001248f6",
   "metadata": {},
   "source": [
    "Type here your latex equations or embedd a png scan of your handwritten equations. "
   ]
  },
  {
   "attachments": {},
   "cell_type": "markdown",
   "id": "64a863f8",
   "metadata": {},
   "source": [
    "### SGD \n",
    "\n",
    "Write the SGD algorithm that will estimate $\\theta$. Experiment with the learning rate and the number of iterations and mini-batch size. "
   ]
  },
  {
   "cell_type": "code",
   "execution_count": null,
   "id": "56570fd6",
   "metadata": {},
   "outputs": [],
   "source": [
    "# Insert here the code"
   ]
  }
 ],
 "metadata": {
  "kernelspec": {
   "display_name": ".venv",
   "language": "python",
   "name": "python3"
  },
  "language_info": {
   "codemirror_mode": {
    "name": "ipython",
    "version": 3
   },
   "file_extension": ".py",
   "mimetype": "text/x-python",
   "name": "python",
   "nbconvert_exporter": "python",
   "pygments_lexer": "ipython3",
   "version": "3.8.10"
  },
  "vscode": {
   "interpreter": {
    "hash": "e1da0ef6f0c3abfdc04085ea68693363a663f646649777911603cba652775eb9"
   }
  }
 },
 "nbformat": 4,
 "nbformat_minor": 5
}
